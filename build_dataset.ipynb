{
 "cells": [
  {
   "cell_type": "code",
   "execution_count": 1,
   "metadata": {},
   "outputs": [],
   "source": [
    "import csv\n",
    "import pandas as pd\n",
    "from sklearn.model_selection import train_test_split"
   ]
  },
  {
   "cell_type": "code",
   "execution_count": 4,
   "metadata": {},
   "outputs": [],
   "source": [
    "biased_train = pd.read_csv(\"Original/biased.word.train.tsv\", sep=\"\\t\", names=[\"b1\", \"bert_src\", \"bert_tgt\", \"src\", \"tgt\", \"grammar\", \"extra\"])\n",
    "biased_dev = pd.read_csv(\"Original/biased.word.dev.tsv\", sep=\"\\t\", names=[\"b1\", \"bert_src\", \"bert_tgt\", \"src\", \"tgt\", \"grammar\", \"extra\"])\n",
    "biased_test = pd.read_csv(\"Original/biased.word.test.tsv\", sep=\"\\t\", names=[\"b1\", \"bert_src\", \"bert_tgt\", \"src\", \"tgt\", \"grammar\", \"extra\"])"
   ]
  },
  {
   "cell_type": "code",
   "execution_count": 5,
   "metadata": {},
   "outputs": [
    {
     "data": {
      "text/html": [
       "<div>\n",
       "<style scoped>\n",
       "    .dataframe tbody tr th:only-of-type {\n",
       "        vertical-align: middle;\n",
       "    }\n",
       "\n",
       "    .dataframe tbody tr th {\n",
       "        vertical-align: top;\n",
       "    }\n",
       "\n",
       "    .dataframe thead th {\n",
       "        text-align: right;\n",
       "    }\n",
       "</style>\n",
       "<table border=\"1\" class=\"dataframe\">\n",
       "  <thead>\n",
       "    <tr style=\"text-align: right;\">\n",
       "      <th></th>\n",
       "      <th>b1</th>\n",
       "      <th>bert_src</th>\n",
       "      <th>bert_tgt</th>\n",
       "      <th>src</th>\n",
       "      <th>tgt</th>\n",
       "      <th>grammar</th>\n",
       "      <th>extra</th>\n",
       "    </tr>\n",
       "  </thead>\n",
       "  <tbody>\n",
       "    <tr>\n",
       "      <td>0</td>\n",
       "      <td>165188319</td>\n",
       "      <td>ch ##lor ##of ##or ##m \" the molecular life ##...</td>\n",
       "      <td>ch ##lor ##of ##or ##m \" the molecular life ##...</td>\n",
       "      <td>chloroform \"the molecular lifesaver\" an articl...</td>\n",
       "      <td>chloroform \"the molecular lifesaver\" an articl...</td>\n",
       "      <td>NOUN NOUN NOUN NOUN NOUN PUNCT DET ADJ NOUN NO...</td>\n",
       "      <td>ROOT ROOT ROOT ROOT ROOT punct det amod dobj d...</td>\n",
       "    </tr>\n",
       "    <tr>\n",
       "      <td>1</td>\n",
       "      <td>123204846</td>\n",
       "      <td>the free software gnu class ##path project is ...</td>\n",
       "      <td>the free software gnu class ##path project is ...</td>\n",
       "      <td>the free software gnu classpath project is onl...</td>\n",
       "      <td>the free software gnu classpath project is par...</td>\n",
       "      <td>DET ADJ NOUN NOUN NOUN NOUN NOUN VERB ADV ADV ...</td>\n",
       "      <td>det amod nmod compound compound compound nsubj...</td>\n",
       "    </tr>\n",
       "    <tr>\n",
       "      <td>2</td>\n",
       "      <td>706783956</td>\n",
       "      <td>other campaign ##ers , especially the controve...</td>\n",
       "      <td>other campaign ##ers , especially the british ...</td>\n",
       "      <td>other campaigners, especially the controversia...</td>\n",
       "      <td>other campaigners, especially the british acti...</td>\n",
       "      <td>ADJ NOUN NOUN PUNCT ADV DET ADJ ADJ NOUN ADJ N...</td>\n",
       "      <td>amod nsubj nsubj punct advmod det amod amod am...</td>\n",
       "    </tr>\n",
       "    <tr>\n",
       "      <td>3</td>\n",
       "      <td>612378448</td>\n",
       "      <td>vocalist rob half ##ord ' s performance is con...</td>\n",
       "      <td>vocalist rob half ##ord ' s performance is con...</td>\n",
       "      <td>vocalist rob halford's performance is consider...</td>\n",
       "      <td>vocalist rob halford's performance is consider...</td>\n",
       "      <td>ADJ X NOUN NOUN PUNCT PART NOUN VERB VERB NUM ...</td>\n",
       "      <td>amod amod poss poss punct case nsubjpass auxpa...</td>\n",
       "    </tr>\n",
       "    <tr>\n",
       "      <td>4</td>\n",
       "      <td>876796337</td>\n",
       "      <td>the proud general is a chinese animated featur...</td>\n",
       "      <td>the proud general is a chinese animated featur...</td>\n",
       "      <td>the proud general is a chinese animated featur...</td>\n",
       "      <td>the proud general is a chinese animated featur...</td>\n",
       "      <td>DET ADJ NOUN VERB DET ADJ VERB NOUN NOUN VERB ...</td>\n",
       "      <td>det amod nsubj ROOT det amod amod attr attr ac...</td>\n",
       "    </tr>\n",
       "    <tr>\n",
       "      <td>...</td>\n",
       "      <td>...</td>\n",
       "      <td>...</td>\n",
       "      <td>...</td>\n",
       "      <td>...</td>\n",
       "      <td>...</td>\n",
       "      <td>...</td>\n",
       "      <td>...</td>\n",
       "    </tr>\n",
       "    <tr>\n",
       "      <td>53798</td>\n",
       "      <td>341593940</td>\n",
       "      <td>the national lawyers guild is a progressive / ...</td>\n",
       "      <td>the national lawyers guild is a progressive ba...</td>\n",
       "      <td>the national lawyers guild is a progressive /l...</td>\n",
       "      <td>the national lawyers guild is a progressive ba...</td>\n",
       "      <td>DET ADJ NOUN ADJ VERB DET ADJ SYM ADJ PUNCT NO...</td>\n",
       "      <td>det amod compound nsubj ROOT det amod punct am...</td>\n",
       "    </tr>\n",
       "    <tr>\n",
       "      <td>53799</td>\n",
       "      <td>640510650</td>\n",
       "      <td>a plan to red ##eve ##lo ##p the old tiger sta...</td>\n",
       "      <td>a plan to red ##eve ##lo ##p the old tiger sta...</td>\n",
       "      <td>a plan to redevelop the old tiger stadium site...</td>\n",
       "      <td>a plan to redevelop the old tiger stadium site...</td>\n",
       "      <td>DET NOUN PART VERB VERB VERB VERB DET ADJ NOUN...</td>\n",
       "      <td>det nsubj aux acl acl acl acl det amod compoun...</td>\n",
       "    </tr>\n",
       "    <tr>\n",
       "      <td>53800</td>\n",
       "      <td>162719260</td>\n",
       "      <td>instrumental ##ly , life ##son is regarded as ...</td>\n",
       "      <td>instrumental ##ly , life ##son is regarded as ...</td>\n",
       "      <td>instrumentally, lifeson is regarded as a virtu...</td>\n",
       "      <td>instrumentally, lifeson is regarded as a guita...</td>\n",
       "      <td>ADV ADV PUNCT NOUN NOUN VERB VERB ADP DET ADJ ...</td>\n",
       "      <td>advmod advmod punct nsubjpass nsubjpass auxpas...</td>\n",
       "    </tr>\n",
       "    <tr>\n",
       "      <td>53801</td>\n",
       "      <td>62331672</td>\n",
       "      <td>fly ##nt joined the us army in 1958 at only fi...</td>\n",
       "      <td>fly ##nt joined the us army in 1958 at only fi...</td>\n",
       "      <td>flynt joined the us army in 1958 at only fifte...</td>\n",
       "      <td>flynt joined the us army in 1958 at only fifte...</td>\n",
       "      <td>NOUN NOUN VERB DET PRON NOUN ADP NUM ADP ADV N...</td>\n",
       "      <td>nsubj nsubj ROOT det compound dobj prep pobj p...</td>\n",
       "    </tr>\n",
       "    <tr>\n",
       "      <td>53802</td>\n",
       "      <td>93333495</td>\n",
       "      <td>today , mtv ##2 airs some music videos , other...</td>\n",
       "      <td>today , mtv ##2 airs a selection music videos ...</td>\n",
       "      <td>today, mtv2 airs some music videos, other musi...</td>\n",
       "      <td>today, mtv2 airs a selection music videos, oth...</td>\n",
       "      <td>NOUN PUNCT NOUN NOUN NOUN DET NOUN NOUN PUNCT ...</td>\n",
       "      <td>npadvmod punct nsubj nsubj ROOT det compound d...</td>\n",
       "    </tr>\n",
       "  </tbody>\n",
       "</table>\n",
       "<p>53803 rows × 7 columns</p>\n",
       "</div>"
      ],
      "text/plain": [
       "              b1                                           bert_src  \\\n",
       "0      165188319  ch ##lor ##of ##or ##m \" the molecular life ##...   \n",
       "1      123204846  the free software gnu class ##path project is ...   \n",
       "2      706783956  other campaign ##ers , especially the controve...   \n",
       "3      612378448  vocalist rob half ##ord ' s performance is con...   \n",
       "4      876796337  the proud general is a chinese animated featur...   \n",
       "...          ...                                                ...   \n",
       "53798  341593940  the national lawyers guild is a progressive / ...   \n",
       "53799  640510650  a plan to red ##eve ##lo ##p the old tiger sta...   \n",
       "53800  162719260  instrumental ##ly , life ##son is regarded as ...   \n",
       "53801   62331672  fly ##nt joined the us army in 1958 at only fi...   \n",
       "53802   93333495  today , mtv ##2 airs some music videos , other...   \n",
       "\n",
       "                                                bert_tgt  \\\n",
       "0      ch ##lor ##of ##or ##m \" the molecular life ##...   \n",
       "1      the free software gnu class ##path project is ...   \n",
       "2      other campaign ##ers , especially the british ...   \n",
       "3      vocalist rob half ##ord ' s performance is con...   \n",
       "4      the proud general is a chinese animated featur...   \n",
       "...                                                  ...   \n",
       "53798  the national lawyers guild is a progressive ba...   \n",
       "53799  a plan to red ##eve ##lo ##p the old tiger sta...   \n",
       "53800  instrumental ##ly , life ##son is regarded as ...   \n",
       "53801  fly ##nt joined the us army in 1958 at only fi...   \n",
       "53802  today , mtv ##2 airs a selection music videos ...   \n",
       "\n",
       "                                                     src  \\\n",
       "0      chloroform \"the molecular lifesaver\" an articl...   \n",
       "1      the free software gnu classpath project is onl...   \n",
       "2      other campaigners, especially the controversia...   \n",
       "3      vocalist rob halford's performance is consider...   \n",
       "4      the proud general is a chinese animated featur...   \n",
       "...                                                  ...   \n",
       "53798  the national lawyers guild is a progressive /l...   \n",
       "53799  a plan to redevelop the old tiger stadium site...   \n",
       "53800  instrumentally, lifeson is regarded as a virtu...   \n",
       "53801  flynt joined the us army in 1958 at only fifte...   \n",
       "53802  today, mtv2 airs some music videos, other musi...   \n",
       "\n",
       "                                                     tgt  \\\n",
       "0      chloroform \"the molecular lifesaver\" an articl...   \n",
       "1      the free software gnu classpath project is par...   \n",
       "2      other campaigners, especially the british acti...   \n",
       "3      vocalist rob halford's performance is consider...   \n",
       "4      the proud general is a chinese animated featur...   \n",
       "...                                                  ...   \n",
       "53798  the national lawyers guild is a progressive ba...   \n",
       "53799  a plan to redevelop the old tiger stadium site...   \n",
       "53800  instrumentally, lifeson is regarded as a guita...   \n",
       "53801  flynt joined the us army in 1958 at only fifte...   \n",
       "53802  today, mtv2 airs a selection music videos, oth...   \n",
       "\n",
       "                                                 grammar  \\\n",
       "0      NOUN NOUN NOUN NOUN NOUN PUNCT DET ADJ NOUN NO...   \n",
       "1      DET ADJ NOUN NOUN NOUN NOUN NOUN VERB ADV ADV ...   \n",
       "2      ADJ NOUN NOUN PUNCT ADV DET ADJ ADJ NOUN ADJ N...   \n",
       "3      ADJ X NOUN NOUN PUNCT PART NOUN VERB VERB NUM ...   \n",
       "4      DET ADJ NOUN VERB DET ADJ VERB NOUN NOUN VERB ...   \n",
       "...                                                  ...   \n",
       "53798  DET ADJ NOUN ADJ VERB DET ADJ SYM ADJ PUNCT NO...   \n",
       "53799  DET NOUN PART VERB VERB VERB VERB DET ADJ NOUN...   \n",
       "53800  ADV ADV PUNCT NOUN NOUN VERB VERB ADP DET ADJ ...   \n",
       "53801  NOUN NOUN VERB DET PRON NOUN ADP NUM ADP ADV N...   \n",
       "53802  NOUN PUNCT NOUN NOUN NOUN DET NOUN NOUN PUNCT ...   \n",
       "\n",
       "                                                   extra  \n",
       "0      ROOT ROOT ROOT ROOT ROOT punct det amod dobj d...  \n",
       "1      det amod nmod compound compound compound nsubj...  \n",
       "2      amod nsubj nsubj punct advmod det amod amod am...  \n",
       "3      amod amod poss poss punct case nsubjpass auxpa...  \n",
       "4      det amod nsubj ROOT det amod amod attr attr ac...  \n",
       "...                                                  ...  \n",
       "53798  det amod compound nsubj ROOT det amod punct am...  \n",
       "53799  det nsubj aux acl acl acl acl det amod compoun...  \n",
       "53800  advmod advmod punct nsubjpass nsubjpass auxpas...  \n",
       "53801  nsubj nsubj ROOT det compound dobj prep pobj p...  \n",
       "53802  npadvmod punct nsubj nsubj ROOT det compound d...  \n",
       "\n",
       "[53803 rows x 7 columns]"
      ]
     },
     "execution_count": 5,
     "metadata": {},
     "output_type": "execute_result"
    }
   ],
   "source": [
    "biased_train"
   ]
  },
  {
   "cell_type": "code",
   "execution_count": null,
   "metadata": {},
   "outputs": [],
   "source": []
  },
  {
   "cell_type": "code",
   "execution_count": 4,
   "metadata": {},
   "outputs": [],
   "source": [
    "import difflib"
   ]
  },
  {
   "cell_type": "code",
   "execution_count": 5,
   "metadata": {},
   "outputs": [
    {
     "ename": "NameError",
     "evalue": "name 'raw_data' is not defined",
     "output_type": "error",
     "traceback": [
      "\u001b[0;31m---------------------------------------------------------------------------\u001b[0m",
      "\u001b[0;31mNameError\u001b[0m                                 Traceback (most recent call last)",
      "\u001b[0;32m<ipython-input-5-c0a23a99c3bb>\u001b[0m in \u001b[0;36m<module>\u001b[0;34m\u001b[0m\n\u001b[0;32m----> 1\u001b[0;31m \u001b[0ma\u001b[0m \u001b[0;34m=\u001b[0m \u001b[0mraw_data\u001b[0m\u001b[0;34m.\u001b[0m\u001b[0mloc\u001b[0m\u001b[0;34m[\u001b[0m\u001b[0;36m1\u001b[0m\u001b[0;34m]\u001b[0m\u001b[0;34m[\u001b[0m\u001b[0;34m'biased_sentences'\u001b[0m\u001b[0;34m]\u001b[0m\u001b[0;34m\u001b[0m\u001b[0;34m\u001b[0m\u001b[0m\n\u001b[0m\u001b[1;32m      2\u001b[0m \u001b[0mb\u001b[0m \u001b[0;34m=\u001b[0m \u001b[0mraw_data\u001b[0m\u001b[0;34m.\u001b[0m\u001b[0mloc\u001b[0m\u001b[0;34m[\u001b[0m\u001b[0;36m1\u001b[0m\u001b[0;34m]\u001b[0m\u001b[0;34m[\u001b[0m\u001b[0;34m'unbiased_sentences'\u001b[0m\u001b[0;34m]\u001b[0m\u001b[0;34m\u001b[0m\u001b[0;34m\u001b[0m\u001b[0m\n\u001b[1;32m      3\u001b[0m \u001b[0;32mfor\u001b[0m \u001b[0mi\u001b[0m\u001b[0;34m,\u001b[0m\u001b[0ms\u001b[0m \u001b[0;32min\u001b[0m \u001b[0menumerate\u001b[0m\u001b[0;34m(\u001b[0m\u001b[0mdifflib\u001b[0m\u001b[0;34m.\u001b[0m\u001b[0mndiff\u001b[0m\u001b[0;34m(\u001b[0m\u001b[0ma\u001b[0m\u001b[0;34m,\u001b[0m \u001b[0mb\u001b[0m\u001b[0;34m)\u001b[0m\u001b[0;34m)\u001b[0m\u001b[0;34m:\u001b[0m\u001b[0;34m\u001b[0m\u001b[0;34m\u001b[0m\u001b[0m\n\u001b[1;32m      4\u001b[0m     \u001b[0;32mif\u001b[0m \u001b[0ms\u001b[0m\u001b[0;34m[\u001b[0m\u001b[0;36m0\u001b[0m\u001b[0;34m]\u001b[0m\u001b[0;34m==\u001b[0m\u001b[0;34m' '\u001b[0m\u001b[0;34m:\u001b[0m \u001b[0;32mcontinue\u001b[0m\u001b[0;34m\u001b[0m\u001b[0;34m\u001b[0m\u001b[0m\n\u001b[1;32m      5\u001b[0m     \u001b[0;32melif\u001b[0m \u001b[0ms\u001b[0m\u001b[0;34m[\u001b[0m\u001b[0;36m0\u001b[0m\u001b[0;34m]\u001b[0m\u001b[0;34m==\u001b[0m\u001b[0;34m'-'\u001b[0m\u001b[0;34m:\u001b[0m\u001b[0;34m\u001b[0m\u001b[0;34m\u001b[0m\u001b[0m\n",
      "\u001b[0;31mNameError\u001b[0m: name 'raw_data' is not defined"
     ]
    }
   ],
   "source": [
    "a = raw_data.loc[1]['biased_sentences']\n",
    "b = raw_data.loc[1]['unbiased_sentences']\n",
    "for i,s in enumerate(difflib.ndiff(a, b)):\n",
    "    if s[0]==' ': continue\n",
    "    elif s[0]=='-':\n",
    "        print(u'Delete \"{}\" from position {}'.format(s[-1],i))\n",
    "    elif s[0]=='+':\n",
    "        print(u'Add \"{}\" to position {}'.format(s[-1],i))    \n",
    "print()"
   ]
  },
  {
   "cell_type": "code",
   "execution_count": 6,
   "metadata": {},
   "outputs": [],
   "source": [
    "# Split into Train, Dev, Test\n",
    "# train, test = train_test_split(raw_data, test_size=0.1, random_state=42)"
   ]
  },
  {
   "cell_type": "code",
   "execution_count": 7,
   "metadata": {},
   "outputs": [],
   "source": [
    "# train, dev = train_test_split(train, test_size=0.1, random_state=42)"
   ]
  },
  {
   "cell_type": "code",
   "execution_count": 8,
   "metadata": {},
   "outputs": [],
   "source": [
    "# print(len(test), len(train), len(dev))"
   ]
  },
  {
   "cell_type": "code",
   "execution_count": 4,
   "metadata": {},
   "outputs": [],
   "source": [
    "# Process data into txt files\n",
    "biased_text_train = biased_train['src'].values\n",
    "unbiased_text_train = biased_train['tgt'].values\n",
    "biased_text_dev = biased_dev['src'].values\n",
    "unbiased_text_dev = biased_dev['tgt'].values\n",
    "biased_text_test = biased_test['src'].values\n",
    "unbiased_text_test = biased_test['tgt'].values"
   ]
  },
  {
   "cell_type": "code",
   "execution_count": 5,
   "metadata": {},
   "outputs": [
    {
     "data": {
      "text/plain": [
       "53803"
      ]
     },
     "execution_count": 5,
     "metadata": {},
     "output_type": "execute_result"
    }
   ],
   "source": [
    "len(biased_text_train)"
   ]
  },
  {
   "cell_type": "code",
   "execution_count": 6,
   "metadata": {},
   "outputs": [],
   "source": [
    "with open('dataset/biased_nmt/train.biased', 'w') as f:\n",
    "    f.write(\n",
    "    \"\\n\".join(biased_text_train))\n",
    "with open('dataset/biased_nmt/train.unbiased', 'w') as f:\n",
    "    f.write(\n",
    "    \"\\n\".join(unbiased_text_train))\n",
    "with open('dataset/biased_nmt/dev.biased', 'w') as f:\n",
    "    f.write(\n",
    "    \"\\n\".join(biased_text_dev))\n",
    "with open('dataset/biased_nmt/dev.unbiased', 'w') as f:\n",
    "    f.write(\n",
    "    \"\\n\".join(unbiased_text_dev))\n",
    "with open('dataset/biased_nmt/test.biased', 'w') as f:\n",
    "    f.write(\n",
    "    \"\\n\".join(biased_text_test))\n",
    "with open('dataset/biased_nmt/test.unbiased', 'w') as f:\n",
    "    f.write(\n",
    "    \"\\n\".join(unbiased_text_test))"
   ]
  },
  {
   "cell_type": "code",
   "execution_count": 7,
   "metadata": {},
   "outputs": [],
   "source": [
    "# BERT\n",
    "# Process data into txt files\n",
    "bert_train_biased = biased_train['src'].values\n",
    "bert_train_unbiased = biased_train['tgt'].values\n",
    "bert_dev_biased = biased_dev['src'].values\n",
    "bert_dev_unbiased = biased_dev['tgt'].values\n",
    "bert_test_biased = biased_test['src'].values\n",
    "bert_test_unbiased = biased_test['tgt'].values"
   ]
  },
  {
   "cell_type": "code",
   "execution_count": 8,
   "metadata": {},
   "outputs": [],
   "source": [
    "with open('dataset/biased_nmt/bert_train.biased', 'w') as f:\n",
    "    f.write(\n",
    "    \"\\n\".join(bert_train_biased))\n",
    "with open('dataset/biased_nmt/bert_train.unbiased', 'w') as f:\n",
    "    f.write(\n",
    "    \"\\n\".join(bert_train_unbiased))\n",
    "with open('dataset/biased_nmt/bert_dev.biased', 'w') as f:\n",
    "    f.write(\n",
    "    \"\\n\".join(bert_dev_biased))\n",
    "with open('dataset/biased_nmt/bert_dev.unbiased', 'w') as f:\n",
    "    f.write(\n",
    "    \"\\n\".join(bert_dev_unbiased))\n",
    "with open('dataset/biased_nmt/bert_test.biased', 'w') as f:\n",
    "    f.write(\n",
    "    \"\\n\".join(bert_test_biased))\n",
    "with open('dataset/biased_nmt/bert_test.unbiased', 'w') as f:\n",
    "    f.write(\n",
    "    \"\\n\".join(bert_test_unbiased))"
   ]
  },
  {
   "cell_type": "code",
   "execution_count": 12,
   "metadata": {},
   "outputs": [],
   "source": [
    "# Building dataset for the unbiased sentences.\n",
    "neutral_data = pd.read_csv(\"Original/bias_data/WNC/neutral.tsv\", sep=\"\\t\", names=[ \"b1\", \"b2\", \"src\", \"tgt\"])"
   ]
  },
  {
   "cell_type": "code",
   "execution_count": 15,
   "metadata": {},
   "outputs": [],
   "source": [
    "neutral_data = neutral_data.dropna()"
   ]
  },
  {
   "cell_type": "code",
   "execution_count": 16,
   "metadata": {},
   "outputs": [],
   "source": [
    "# Split into Train, Dev, Test\n",
    "train, dev = train_test_split(neutral_data, test_size=0.025, random_state=42)"
   ]
  },
  {
   "cell_type": "code",
   "execution_count": 5,
   "metadata": {},
   "outputs": [],
   "source": [
    "# train, dev = train_test_split(train, test_size=0.1, random_state=42)"
   ]
  },
  {
   "cell_type": "code",
   "execution_count": 6,
   "metadata": {},
   "outputs": [
    {
     "data": {
      "text/html": [
       "<div>\n",
       "<style scoped>\n",
       "    .dataframe tbody tr th:only-of-type {\n",
       "        vertical-align: middle;\n",
       "    }\n",
       "\n",
       "    .dataframe tbody tr th {\n",
       "        vertical-align: top;\n",
       "    }\n",
       "\n",
       "    .dataframe thead th {\n",
       "        text-align: right;\n",
       "    }\n",
       "</style>\n",
       "<table border=\"1\" class=\"dataframe\">\n",
       "  <thead>\n",
       "    <tr style=\"text-align: right;\">\n",
       "      <th></th>\n",
       "      <th>b1</th>\n",
       "      <th>b2</th>\n",
       "      <th>src</th>\n",
       "      <th>tgt</th>\n",
       "    </tr>\n",
       "  </thead>\n",
       "  <tbody>\n",
       "    <tr>\n",
       "      <td>77023427</td>\n",
       "      <td>it includes an ing ##eni ##ous use of pop ##ul...</td>\n",
       "      <td>it includes an ing ##eni ##ous use of pop ##ul...</td>\n",
       "      <td>it includes an ingenious use of populist polic...</td>\n",
       "      <td>it includes an ingenious use of populist polic...</td>\n",
       "    </tr>\n",
       "    <tr>\n",
       "      <td>216117951</td>\n",
       "      <td>it was followed up with a studio album in 2003...</td>\n",
       "      <td>it was followed up with a studio album in 2003...</td>\n",
       "      <td>it was followed up with a studio album in 2003...</td>\n",
       "      <td>it was followed up with a studio album in 2003...</td>\n",
       "    </tr>\n",
       "    <tr>\n",
       "      <td>617412665</td>\n",
       "      <td>public access is the piece for which he is mos...</td>\n",
       "      <td>public access is the piece for which he is mos...</td>\n",
       "      <td>public access is the piece for which he is mos...</td>\n",
       "      <td>public access is the piece for which he is mos...</td>\n",
       "    </tr>\n",
       "    <tr>\n",
       "      <td>454154195</td>\n",
       "      <td>he was a principal figure in the development o...</td>\n",
       "      <td>he was a principal figure in the development o...</td>\n",
       "      <td>he was a principal figure in the development o...</td>\n",
       "      <td>he was a principal figure in the development o...</td>\n",
       "    </tr>\n",
       "    <tr>\n",
       "      <td>444075347</td>\n",
       "      <td>lu ##ft ##han ##sa , today ' s german flag car...</td>\n",
       "      <td>lu ##ft ##han ##sa , today ' s german flag car...</td>\n",
       "      <td>lufthansa, today's german flag carrier, acquir...</td>\n",
       "      <td>lufthansa, today's german flag carrier, acquir...</td>\n",
       "    </tr>\n",
       "    <tr>\n",
       "      <td>...</td>\n",
       "      <td>...</td>\n",
       "      <td>...</td>\n",
       "      <td>...</td>\n",
       "      <td>...</td>\n",
       "    </tr>\n",
       "    <tr>\n",
       "      <td>157468814</td>\n",
       "      <td>in november of 1999 , s ##z ##wa ##ja received...</td>\n",
       "      <td>in november of 1999 , s ##z ##wa ##ja received...</td>\n",
       "      <td>in november of 1999, szwaja received the unite...</td>\n",
       "      <td>in november of 1999, szwaja received the unite...</td>\n",
       "    </tr>\n",
       "    <tr>\n",
       "      <td>62851214</td>\n",
       "      <td>during his senate term ( 1999 - 2005 ) , john ...</td>\n",
       "      <td>during his senate term ( 1999 - 2005 ) , john ...</td>\n",
       "      <td>during his senate term (1999-2005), john edwar...</td>\n",
       "      <td>during his senate term (1999-2005), john edwar...</td>\n",
       "    </tr>\n",
       "    <tr>\n",
       "      <td>24107172</td>\n",
       "      <td>the per ##vas ##ive influence of the orange or...</td>\n",
       "      <td>the per ##vas ##ive influence of the orange or...</td>\n",
       "      <td>the pervasive influence of the orange order in...</td>\n",
       "      <td>the pervasive influence of the orange order in...</td>\n",
       "    </tr>\n",
       "    <tr>\n",
       "      <td>104562515</td>\n",
       "      <td>on january 19 , 1990 , four years after his ar...</td>\n",
       "      <td>on january 19 , 1990 , four years after his ar...</td>\n",
       "      <td>on january 19, 1990, four years after his arre...</td>\n",
       "      <td>on january 19, 1990, four years after his arre...</td>\n",
       "    </tr>\n",
       "    <tr>\n",
       "      <td>783180100</td>\n",
       "      <td>the wizards started off the 2016 - 17 season w...</td>\n",
       "      <td>the wizards started off the 2016 - 17 season w...</td>\n",
       "      <td>the wizards started off the 2016-17 season wit...</td>\n",
       "      <td>the wizards started off the 2016-17 season wit...</td>\n",
       "    </tr>\n",
       "  </tbody>\n",
       "</table>\n",
       "<p>38516 rows × 4 columns</p>\n",
       "</div>"
      ],
      "text/plain": [
       "                                                          b1  \\\n",
       "77023427   it includes an ing ##eni ##ous use of pop ##ul...   \n",
       "216117951  it was followed up with a studio album in 2003...   \n",
       "617412665  public access is the piece for which he is mos...   \n",
       "454154195  he was a principal figure in the development o...   \n",
       "444075347  lu ##ft ##han ##sa , today ' s german flag car...   \n",
       "...                                                      ...   \n",
       "157468814  in november of 1999 , s ##z ##wa ##ja received...   \n",
       "62851214   during his senate term ( 1999 - 2005 ) , john ...   \n",
       "24107172   the per ##vas ##ive influence of the orange or...   \n",
       "104562515  on january 19 , 1990 , four years after his ar...   \n",
       "783180100  the wizards started off the 2016 - 17 season w...   \n",
       "\n",
       "                                                          b2  \\\n",
       "77023427   it includes an ing ##eni ##ous use of pop ##ul...   \n",
       "216117951  it was followed up with a studio album in 2003...   \n",
       "617412665  public access is the piece for which he is mos...   \n",
       "454154195  he was a principal figure in the development o...   \n",
       "444075347  lu ##ft ##han ##sa , today ' s german flag car...   \n",
       "...                                                      ...   \n",
       "157468814  in november of 1999 , s ##z ##wa ##ja received...   \n",
       "62851214   during his senate term ( 1999 - 2005 ) , john ...   \n",
       "24107172   the per ##vas ##ive influence of the orange or...   \n",
       "104562515  on january 19 , 1990 , four years after his ar...   \n",
       "783180100  the wizards started off the 2016 - 17 season w...   \n",
       "\n",
       "                                                         src  \\\n",
       "77023427   it includes an ingenious use of populist polic...   \n",
       "216117951  it was followed up with a studio album in 2003...   \n",
       "617412665  public access is the piece for which he is mos...   \n",
       "454154195  he was a principal figure in the development o...   \n",
       "444075347  lufthansa, today's german flag carrier, acquir...   \n",
       "...                                                      ...   \n",
       "157468814  in november of 1999, szwaja received the unite...   \n",
       "62851214   during his senate term (1999-2005), john edwar...   \n",
       "24107172   the pervasive influence of the orange order in...   \n",
       "104562515  on january 19, 1990, four years after his arre...   \n",
       "783180100  the wizards started off the 2016-17 season wit...   \n",
       "\n",
       "                                                         tgt  \n",
       "77023427   it includes an ingenious use of populist polic...  \n",
       "216117951  it was followed up with a studio album in 2003...  \n",
       "617412665  public access is the piece for which he is mos...  \n",
       "454154195  he was a principal figure in the development o...  \n",
       "444075347  lufthansa, today's german flag carrier, acquir...  \n",
       "...                                                      ...  \n",
       "157468814  in november of 1999, szwaja received the unite...  \n",
       "62851214   during his senate term (1999-2005), john edwar...  \n",
       "24107172   the pervasive influence of the orange order in...  \n",
       "104562515  on january 19, 1990, four years after his arre...  \n",
       "783180100  the wizards started off the 2016-17 season wit...  \n",
       "\n",
       "[38516 rows x 4 columns]"
      ]
     },
     "execution_count": 6,
     "metadata": {},
     "output_type": "execute_result"
    }
   ],
   "source": [
    "# test"
   ]
  },
  {
   "cell_type": "code",
   "execution_count": 17,
   "metadata": {},
   "outputs": [],
   "source": [
    "# Process data into txt files\n",
    "src_text_train = train['src'].values\n",
    "tgt_text_train = train['tgt'].values\n",
    "src_text_dev = dev['src'].values\n",
    "tgt_text_dev = dev['tgt'].values\n",
    "# src_text_test = test['src'].values\n",
    "# tgt_text_test = test['tgt'].values"
   ]
  },
  {
   "cell_type": "code",
   "execution_count": 18,
   "metadata": {},
   "outputs": [
    {
     "data": {
      "text/plain": [
       "375524"
      ]
     },
     "execution_count": 18,
     "metadata": {},
     "output_type": "execute_result"
    }
   ],
   "source": [
    "len(src_text_train)"
   ]
  },
  {
   "cell_type": "code",
   "execution_count": 19,
   "metadata": {},
   "outputs": [],
   "source": [
    "a = set()\n",
    "for s in src_text_train:\n",
    "    sl = s.split(\" \")\n",
    "    for w in sl:\n",
    "        a.add(w)"
   ]
  },
  {
   "cell_type": "code",
   "execution_count": 20,
   "metadata": {},
   "outputs": [
    {
     "data": {
      "text/plain": [
       "423054"
      ]
     },
     "execution_count": 20,
     "metadata": {},
     "output_type": "execute_result"
    }
   ],
   "source": [
    "len(a)tml\n"
   ]
  },
  {
   "cell_type": "code",
   "execution_count": 21,
   "metadata": {},
   "outputs": [],
   "source": [
    "with open('dataset/neutral/src_train.txt', 'w') as f:\n",
    "    f.write(\n",
    "    \"\\n\".join(src_text_train))\n",
    "with open('dataset/neutral/tgt_train.txt', 'w') as f:\n",
    "    f.write(\n",
    "    \"\\n\".join(tgt_text_train))\n",
    "with open('dataset/neutral/src_dev.txt', 'w') as f:\n",
    "    f.write(\n",
    "    \"\\n\".join(src_text_dev))\n",
    "with open('dataset/neutral/tgt_dev.txt', 'w') as f:\n",
    "    f.write(\n",
    "    \"\\n\".join(tgt_text_dev))\n",
    "# with open('dataset/neutral/src_test.txt', 'w') as f:\n",
    "#     f.write(\n",
    "#     \"\\n\".join(src_text_test))\n",
    "# with open('dataset/neutral/tgt_test.txt', 'w') as f:\n",
    "#     f.write(\n",
    "#     \"\\n\".join(tgt_text_test))"
   ]
  },
  {
   "cell_type": "code",
   "execution_count": 11,
   "metadata": {},
   "outputs": [],
   "source": [
    "# for i in range(len(biased_text)):\n",
    "#     a = biased_text[i]\n",
    "#     b = unbiased_text[i]\n",
    "#     print(\"changes for number: \", i)\n",
    "#     for j,s in enumerate(difflib.ndiff(a, b)):\n",
    "#         if s[0]==' ': \n",
    "#             continue\n",
    "#         elif s[0]=='-':\n",
    "#             print(u'Delete \"{}\" from position {}'.format(s[-1],j))\n",
    "#         elif s[0]=='+':\n",
    "#             print(u'Add \"{}\" to position {}'.format(s[-1],j))    \n",
    "#     print()"
   ]
  },
  {
   "cell_type": "code",
   "execution_count": null,
   "metadata": {},
   "outputs": [],
   "source": [
    "# Split into Train, Dev, Test\n",
    "train, test = train_test_split(raw_data, test_size=0.1, random_state=42)"
   ]
  }
 ],
 "metadata": {
  "kernelspec": {
   "display_name": "Python 3",
   "language": "python",
   "name": "python3"
  },
  "language_info": {
   "codemirror_mode": {
    "name": "ipython",
    "version": 3
   },
   "file_extension": ".py",
   "mimetype": "text/x-python",
   "name": "python",
   "nbconvert_exporter": "python",
   "pygments_lexer": "ipython3",
   "version": "3.7.4"
  }
 },
 "nbformat": 4,
 "nbformat_minor": 2
}
